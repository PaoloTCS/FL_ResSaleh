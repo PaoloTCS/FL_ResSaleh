{
 "cells": [
  {
   "cell_type": "code",
   "execution_count": 1,
   "metadata": {},
   "outputs": [
    {
     "data": {
      "text/html": [
       "<div>\n",
       "<style scoped>\n",
       "    .dataframe tbody tr th:only-of-type {\n",
       "        vertical-align: middle;\n",
       "    }\n",
       "\n",
       "    .dataframe tbody tr th {\n",
       "        vertical-align: top;\n",
       "    }\n",
       "\n",
       "    .dataframe thead th {\n",
       "        text-align: right;\n",
       "    }\n",
       "</style>\n",
       "<table border=\"1\" class=\"dataframe\">\n",
       "  <thead>\n",
       "    <tr style=\"text-align: right;\">\n",
       "      <th></th>\n",
       "      <th>Language</th>\n",
       "      <th>Density Factor</th>\n",
       "    </tr>\n",
       "  </thead>\n",
       "  <tbody>\n",
       "    <tr>\n",
       "      <th>0</th>\n",
       "      <td>English</td>\n",
       "      <td>1.574564</td>\n",
       "    </tr>\n",
       "    <tr>\n",
       "      <th>1</th>\n",
       "      <td>Italian</td>\n",
       "      <td>1.000000</td>\n",
       "    </tr>\n",
       "    <tr>\n",
       "      <th>2</th>\n",
       "      <td>Spanish</td>\n",
       "      <td>2.903226</td>\n",
       "    </tr>\n",
       "  </tbody>\n",
       "</table>\n",
       "</div>"
      ],
      "text/plain": [
       "  Language  Density Factor\n",
       "0  English        1.574564\n",
       "1  Italian        1.000000\n",
       "2  Spanish        2.903226"
      ]
     },
     "execution_count": 1,
     "metadata": {},
     "output_type": "execute_result"
    }
   ],
   "source": [
    "# Density Factor Calculation for Universal Language (UL) Space\n",
    "\n",
    "## Importing necessary libraries\n",
    "import numpy as np\n",
    "import pandas as pd\n",
    "\n",
    "## Sample word counts for English, Italian, and Spanish\n",
    "word_counts = {\n",
    "    'English': 171476,\n",
    "    'Italian': 270000,\n",
    "    'Spanish': 93000\n",
    "}\n",
    "\n",
    "## Calculating the maximum word count among the languages\n",
    "N_max = max(word_counts.values())\n",
    "\n",
    "## Initializing an empty dictionary to store the density factors\n",
    "density_factors = {}\n",
    "\n",
    "## Calculating density factors for each language\n",
    "for language, N in word_counts.items():\n",
    "    density_factors[language] = N_max / N\n",
    "\n",
    "## Creating a DataFrame to display the results\n",
    "df_density_factors = pd.DataFrame(list(density_factors.items()), columns=['Language', 'Density Factor'])\n",
    "\n",
    "df_density_factors\n"
   ]
  },
  {
   "cell_type": "code",
   "execution_count": 1,
   "metadata": {},
   "outputs": [
    {
     "data": {
      "text/html": [
       "<div>\n",
       "<style scoped>\n",
       "    .dataframe tbody tr th:only-of-type {\n",
       "        vertical-align: middle;\n",
       "    }\n",
       "\n",
       "    .dataframe tbody tr th {\n",
       "        vertical-align: top;\n",
       "    }\n",
       "\n",
       "    .dataframe thead th {\n",
       "        text-align: right;\n",
       "    }\n",
       "</style>\n",
       "<table border=\"1\" class=\"dataframe\">\n",
       "  <thead>\n",
       "    <tr style=\"text-align: right;\">\n",
       "      <th></th>\n",
       "      <th>Language</th>\n",
       "      <th>Density Factor</th>\n",
       "    </tr>\n",
       "  </thead>\n",
       "  <tbody>\n",
       "    <tr>\n",
       "      <th>0</th>\n",
       "      <td>English</td>\n",
       "      <td>1.574564</td>\n",
       "    </tr>\n",
       "    <tr>\n",
       "      <th>1</th>\n",
       "      <td>Italian</td>\n",
       "      <td>1.000000</td>\n",
       "    </tr>\n",
       "    <tr>\n",
       "      <th>2</th>\n",
       "      <td>Spanish</td>\n",
       "      <td>2.903226</td>\n",
       "    </tr>\n",
       "  </tbody>\n",
       "</table>\n",
       "</div>"
      ],
      "text/plain": [
       "  Language  Density Factor\n",
       "0  English        1.574564\n",
       "1  Italian        1.000000\n",
       "2  Spanish        2.903226"
      ]
     },
     "execution_count": 1,
     "metadata": {},
     "output_type": "execute_result"
    }
   ],
   "source": [
    "# Let's try running the code again to generate the density factors for the languages\n",
    "# Importing necessary libraries\n",
    "import numpy as np\n",
    "import pandas as pd\n",
    "\n",
    "# Sample word counts for English, Italian, and Spanish\n",
    "word_counts = {\n",
    "    'English': 171476,\n",
    "    'Italian': 270000,\n",
    "    'Spanish': 93000\n",
    "}\n",
    "\n",
    "# Calculating the maximum word count among the languages\n",
    "N_max = max(word_counts.values())\n",
    "\n",
    "# Initializing an empty dictionary to store the density factors\n",
    "density_factors = {}\n",
    "\n",
    "# Calculating density factors for each language\n",
    "for language, N in word_counts.items():\n",
    "    density_factors[language] = N_max / N\n",
    "\n",
    "# Creating a DataFrame to display the results\n",
    "df_density_factors = pd.DataFrame(list(density_factors.items()), columns=['Language', 'Density Factor'])\n",
    "\n",
    "df_density_factors\n"
   ]
  },
  {
   "cell_type": "code",
   "execution_count": 2,
   "metadata": {},
   "outputs": [
    {
     "data": {
      "text/plain": [
       "{'English': 1.574564370524155, 'Italian': 1.0, 'Spanish': 2.903225806451613}"
      ]
     },
     "execution_count": 2,
     "metadata": {},
     "output_type": "execute_result"
    }
   ],
   "source": [
    "# Trying once more to execute the code for generating density factors for the languages\n",
    "\n",
    "# Sample word counts for English, Italian, and Spanish\n",
    "word_counts = {\n",
    "    'English': 171476,\n",
    "    'Italian': 270000,\n",
    "    'Spanish': 93000\n",
    "}\n",
    "\n",
    "# Calculating the maximum word count among the languages\n",
    "N_max = max(word_counts.values())\n",
    "\n",
    "# Initializing an empty dictionary to store the density factors\n",
    "density_factors = {}\n",
    "\n",
    "# Calculating density factors for each language\n",
    "for language, N in word_counts.items():\n",
    "    density_factors[language] = N_max / N\n",
    "\n",
    "# Density factors for each language\n",
    "density_factors\n"
   ]
  }
 ],
 "metadata": {
  "kernelspec": {
   "display_name": "envVoronoi",
   "language": "python",
   "name": "python3"
  },
  "language_info": {
   "codemirror_mode": {
    "name": "ipython",
    "version": 3
   },
   "file_extension": ".py",
   "mimetype": "text/x-python",
   "name": "python",
   "nbconvert_exporter": "python",
   "pygments_lexer": "ipython3",
   "version": "3.11.6"
  }
 },
 "nbformat": 4,
 "nbformat_minor": 2
}
