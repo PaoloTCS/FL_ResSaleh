{
 "cells": [
  {
   "cell_type": "code",
   "execution_count": null,
   "metadata": {},
   "outputs": [],
   "source": []
  },
  {
   "cell_type": "markdown",
   "metadata": {},
   "source": [
    "Given a file called \"PrimeTextFiles/primes-to-100k.txt\" containing primes, this is what i what to do:  List the primes like [(1, 2), (2, 3), (3, 5), (4, 7), (5, 11), (6, 13), (7, 17), (8, 19), (9, 23), (10, 29), (11, 31),...]. Then list the primes of primes, which would look somewhat like this:  [(2,3), ( 3, 5), (5 ,11), (7, 17) ...    ].  So, first list the primes in order (2 is the 1st prime, 3 is the 2nd..) , then using that list,  write python code for primes of primes.  Please as a next step, write code to make this recursive, so that I could ask for the (primes of (primesof(primes...))). Thank you. \n"
   ]
  },
  {
   "cell_type": "markdown",
   "metadata": {},
   "source": []
  },
  {
   "cell_type": "code",
   "execution_count": 2,
   "metadata": {},
   "outputs": [
    {
     "name": "stdout",
     "output_type": "stream",
     "text": [
      "First 10 primes: [(1, 2), (2, 3), (3, 5), (4, 7), (5, 11), (6, 13), (7, 17), (8, 19), (9, 23), (10, 29)]\n",
      "Primes of primes: [(2, 3), (3, 5), (5, 11), (7, 17), (11, 31), (13, 41), (17, 59), (19, 67), (23, 83), (29, 109)]\n"
     ]
    }
   ],
   "source": [
    "def load_primes(file_path):\n",
    "    with open(file_path, 'r') as file:\n",
    "        primes = [int(line.strip()) for line in file if line.strip().isdigit()]\n",
    "    return primes\n",
    "\n",
    "def list_primes(primes):\n",
    "    return [(i + 1, prime) for i, prime in enumerate(primes)]\n",
    "\n",
    "def primes_of_primes(primes, depth=1):\n",
    "    if depth == 1:\n",
    "        return [(i, primes[i - 1]) for i in primes if i - 1 < len(primes)]\n",
    "    else:\n",
    "        previous_primes = primes_of_primes(primes, depth - 1)\n",
    "        return [(i, primes[i - 1]) for _, i in previous_primes if i - 1 < len(primes)]\n",
    "\n",
    "# Example usage\n",
    "file_path = \"PrimeTextFiles/primes-to-100k.txt\"  # Replace with your file path\n",
    "primes = load_primes(file_path)\n",
    "\n",
    "# List the first 10 primes in the desired format\n",
    "prime_list = list_primes(primes)[:10]\n",
    "\n",
    "# List the primes of primes\n",
    "primes_of_primes_list = primes_of_primes(primes)[:10]\n",
    "\n",
    "print(\"First 10 primes:\", prime_list)\n",
    "print(\"Primes of primes:\", primes_of_primes_list)\n"
   ]
  },
  {
   "cell_type": "code",
   "execution_count": 1,
   "metadata": {},
   "outputs": [
    {
     "name": "stdout",
     "output_type": "stream",
     "text": [
      "[[2]]\n",
      "\n",
      "[[2 0]\n",
      " [0 3]]\n",
      "\n",
      "[[2 0 0]\n",
      " [0 3 0]\n",
      " [0 0 5]]\n",
      "\n",
      "[[2 0 0 0]\n",
      " [0 3 0 0]\n",
      " [0 0 5 0]\n",
      " [0 0 0 7]]\n",
      "\n"
     ]
    }
   ],
   "source": [
    "import numpy as np\n",
    "\n",
    "# Function to create prime diagonal matrices\n",
    "def create_prime_diagonal_matrices(primes, size_limit):\n",
    "    matrices = []\n",
    "    for size in range(1, size_limit + 1):\n",
    "        # Initialize a square matrix of zeros with the given size\n",
    "        matrix = np.zeros((size, size), dtype=int)\n",
    "\n",
    "        # Fill the diagonal with the first 'size' prime numbers\n",
    "        np.fill_diagonal(matrix, primes[:size])\n",
    "\n",
    "        # Add the matrix to the list\n",
    "        matrices.append(matrix)\n",
    "\n",
    "    return matrices\n",
    "\n",
    "# Example usage\n",
    "primes = [2, 3, 5, 7, 11, 13, 17, 19, 23, 29]  # This should be your list of prime numbers\n",
    "size_limit = 4  # Specify the size limit for the square matrices\n",
    "prime_diagonal_matrices = create_prime_diagonal_matrices(primes, size_limit)\n",
    "\n",
    "# Displaying the matrices\n",
    "for matrix in prime_diagonal_matrices:\n",
    "    print(matrix)\n",
    "    print()  # For better readability\n"
   ]
  },
  {
   "cell_type": "code",
   "execution_count": null,
   "metadata": {},
   "outputs": [],
   "source": []
  }
 ],
 "metadata": {
  "kernelspec": {
   "display_name": "envVoronoi",
   "language": "python",
   "name": "python3"
  },
  "language_info": {
   "codemirror_mode": {
    "name": "ipython",
    "version": 3
   },
   "file_extension": ".py",
   "mimetype": "text/x-python",
   "name": "python",
   "nbconvert_exporter": "python",
   "pygments_lexer": "ipython3",
   "version": "3.11.6"
  }
 },
 "nbformat": 4,
 "nbformat_minor": 2
}
