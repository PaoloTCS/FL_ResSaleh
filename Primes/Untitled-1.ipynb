{
 "cells": [
  {
   "cell_type": "code",
   "execution_count": 2,
   "metadata": {},
   "outputs": [
    {
     "ename": "NameError",
     "evalue": "name 'is_prime' is not defined",
     "output_type": "error",
     "traceback": [
      "\u001b[0;31m---------------------------------------------------------------------------\u001b[0m",
      "\u001b[0;31mNameError\u001b[0m                                 Traceback (most recent call last)",
      "Cell \u001b[0;32mIn[2], line 19\u001b[0m\n\u001b[1;32m     17\u001b[0m \u001b[38;5;66;03m# Example file path (to be replaced with actual file path)\u001b[39;00m\n\u001b[1;32m     18\u001b[0m file_path \u001b[38;5;241m=\u001b[39m \u001b[38;5;124m'\u001b[39m\u001b[38;5;124mprimes-to-100k.txt\u001b[39m\u001b[38;5;124m'\u001b[39m\n\u001b[0;32m---> 19\u001b[0m numbers_ending_in_prime \u001b[38;5;241m=\u001b[39m \u001b[43mfind_numbers_ending_in_prime\u001b[49m\u001b[43m(\u001b[49m\u001b[43mfile_path\u001b[49m\u001b[43m)\u001b[49m\n\u001b[1;32m     20\u001b[0m \u001b[38;5;28mprint\u001b[39m(\u001b[38;5;124m\"\u001b[39m\u001b[38;5;124mNumbers ending in a prime:\u001b[39m\u001b[38;5;124m\"\u001b[39m, numbers_ending_in_prime)\n\u001b[1;32m     23\u001b[0m \u001b[38;5;66;03m# %% [markdown]\u001b[39;00m\n\u001b[1;32m     24\u001b[0m \u001b[38;5;66;03m# ## Function to List Primes with Indices\u001b[39;00m\n\u001b[1;32m     25\u001b[0m \n\u001b[1;32m     26\u001b[0m \u001b[38;5;66;03m# %%\u001b[39;00m\n",
      "Cell \u001b[0;32mIn[2], line 13\u001b[0m, in \u001b[0;36mfind_numbers_ending_in_prime\u001b[0;34m(file_path)\u001b[0m\n\u001b[1;32m     11\u001b[0m     \u001b[38;5;28;01mfor\u001b[39;00m line \u001b[38;5;129;01min\u001b[39;00m file:\n\u001b[1;32m     12\u001b[0m         \u001b[38;5;28;01mfor\u001b[39;00m word \u001b[38;5;129;01min\u001b[39;00m line\u001b[38;5;241m.\u001b[39msplit():\n\u001b[0;32m---> 13\u001b[0m             \u001b[38;5;28;01mif\u001b[39;00m word[\u001b[38;5;241m-\u001b[39m\u001b[38;5;241m1\u001b[39m]\u001b[38;5;241m.\u001b[39misdigit() \u001b[38;5;129;01mand\u001b[39;00m \u001b[43mis_prime\u001b[49m(\u001b[38;5;28mint\u001b[39m(word[\u001b[38;5;241m-\u001b[39m\u001b[38;5;241m1\u001b[39m])):\n\u001b[1;32m     14\u001b[0m                 numbers_ending_in_prime\u001b[38;5;241m.\u001b[39mappend(word)\n\u001b[1;32m     15\u001b[0m \u001b[38;5;28;01mreturn\u001b[39;00m numbers_ending_in_prime\n",
      "\u001b[0;31mNameError\u001b[0m: name 'is_prime' is not defined"
     ]
    }
   ],
   "source": [
    "# %% [markdown]\n",
    "# ## Function to Find Numbers Ending in a Prime\n",
    "\n",
    "# %%\n",
    "def find_numbers_ending_in_prime(file_path):\n",
    "    \"\"\"\n",
    "    Read a file and return a list of numbers that end in a prime digit.\n",
    "    \"\"\"\n",
    "    numbers_ending_in_prime = []\n",
    "    with open(file_path, 'r') as file:\n",
    "        for line in file:\n",
    "            for word in line.split():\n",
    "                if word[-1].isdigit() and is_prime(int(word[-1])):\n",
    "                    numbers_ending_in_prime.append(word)\n",
    "    return numbers_ending_in_prime\n",
    "\n",
    "# Example file path (to be replaced with actual file path)\n",
    "file_path = 'primes-to-100k.txt'\n",
    "numbers_ending_in_prime = find_numbers_ending_in_prime(file_path)\n",
    "print(\"Numbers ending in a prime:\", numbers_ending_in_prime)\n",
    "    \n",
    "\n",
    "# %% [markdown]\n",
    "# ## Function to List Primes with Indices\n",
    "\n",
    "# %%\n",
    "def list_primes_with_indices(file_path):\n",
    "    primes_with_indices = []\n",
    "    with open(file_path, 'r') as file:\n",
    "        index = 1\n",
    "        for line in file:\n",
    "            for word in line.split():\n",
    "                if word.isdigit() and is_prime(int(word)):\n",
    "                    primes_with_indices.append((index, int(word)))\n",
    "                    index += 1\n",
    "    return primes_with_indices\n",
    "\n",
    "# #          ----                Example file path (to be replaced with actual file path)\n",
    "file_path = 'path_to_file.txt'\n",
    "primes_with_indices = list_primes_with_indices(file_path)\n",
    "print(\"Primes with indices:\", primes_with_indices)\n",
    "    \n",
    "\n",
    "# %% [markdown]\n",
    "# ## Second Level Primes (Primes of Primes)\n",
    "\n",
    "# %%\n",
    "def primes_of_primes(primes_with_indices):\n",
    "    second_level_primes = []\n",
    "    for index, prime in primes_with_indices:\n",
    "        if is_prime(index):\n",
    "            second_level_primes.append(prime)\n",
    "    return second_level_primes\n",
    "\n",
    "# Using the previously generated list of primes with indices\n",
    "second_level_primes = primes_of_primes(primes_with_indices)\n",
    "print(\"Second level primes (primes of primes):\", second_level_primes)"
   ]
  }
 ],
 "metadata": {
  "kernelspec": {
   "display_name": "envVoronoi",
   "language": "python",
   "name": "python3"
  },
  "language_info": {
   "codemirror_mode": {
    "name": "ipython",
    "version": 3
   },
   "file_extension": ".py",
   "mimetype": "text/x-python",
   "name": "python",
   "nbconvert_exporter": "python",
   "pygments_lexer": "ipython3",
   "version": "3.11.6"
  }
 },
 "nbformat": 4,
 "nbformat_minor": 2
}
