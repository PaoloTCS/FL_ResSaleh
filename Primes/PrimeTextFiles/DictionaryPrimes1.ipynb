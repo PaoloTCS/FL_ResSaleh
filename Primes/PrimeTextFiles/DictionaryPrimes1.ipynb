{
 "cells": [
  {
   "cell_type": "markdown",
   "metadata": {},
   "source": [
    "For every token in language U, assign a unique prime number. A dictionary of U would be of the form: Key, the token in U, Value, the definition, a series of tokens. We calculate the value of the key token by multiplying the values of the value tokens.  So, we then have Token (some prime): Value (some composite).  Toy Python code below."
   ]
  },
  {
   "cell_type": "code",
   "execution_count": 1,
   "metadata": {},
   "outputs": [
    {
     "name": "stdout",
     "output_type": "stream",
     "text": [
      "Token to Prime Mapping: {'cat': 2, 'small': 3, 'furry': 5, 'pet': 7}\n",
      "Prime Number Dictionary: {2: 105}\n"
     ]
    }
   ],
   "source": [
    "import itertools\n",
    "\n",
    "def is_prime(n):\n",
    "    \"\"\"Check if a number is prime.\"\"\"\n",
    "    if n <= 1:\n",
    "        return False\n",
    "    for i in range(2, int(n**0.5) + 1):\n",
    "        if n % i == 0:\n",
    "            return False\n",
    "    return True\n",
    "\n",
    "def gen_primes(n):\n",
    "    \"\"\"Generate the first n prime numbers.\"\"\"\n",
    "    primes, num = [], 2\n",
    "    while len(primes) < n:\n",
    "        if is_prime(num):\n",
    "            primes.append(num)\n",
    "        num += 1\n",
    "    return primes\n",
    "\n",
    "def prime_product(tokens, token_to_prime):\n",
    "    \"\"\"Calculate the product of primes for a given sequence of tokens.\"\"\"\n",
    "    product = 1\n",
    "    for token in tokens:\n",
    "        product *= token_to_prime[token]\n",
    "    return product\n",
    "\n",
    "# Example usage\n",
    "tokens = [\"cat\", \"small\", \"furry\", \"pet\"]\n",
    "primes = gen_primes(len(tokens))\n",
    "\n",
    "# Assign each token a unique prime number\n",
    "token_to_prime = dict(zip(tokens, primes))\n",
    "\n",
    "# Example dictionary in our language\n",
    "dictionary = {\n",
    "    \"cat\": [\"small\", \"furry\", \"pet\"]\n",
    "}\n",
    "\n",
    "# Convert dictionary definitions to prime products\n",
    "prime_dictionary = {}\n",
    "for key, value in dictionary.items():\n",
    "    prime_dictionary[token_to_prime[key]] = prime_product(value, token_to_prime)\n",
    "\n",
    "print(\"Token to Prime Mapping:\", token_to_prime)\n",
    "print(\"Prime Number Dictionary:\", prime_dictionary)\n"
   ]
  },
  {
   "cell_type": "markdown",
   "metadata": {},
   "source": []
  }
 ],
 "metadata": {
  "kernelspec": {
   "display_name": "envVoronoi",
   "language": "python",
   "name": "envvoronoi"
  },
  "language_info": {
   "codemirror_mode": {
    "name": "ipython",
    "version": 3
   },
   "file_extension": ".py",
   "mimetype": "text/x-python",
   "name": "python",
   "nbconvert_exporter": "python",
   "pygments_lexer": "ipython3",
   "version": "3.11.6"
  }
 },
 "nbformat": 4,
 "nbformat_minor": 2
}
