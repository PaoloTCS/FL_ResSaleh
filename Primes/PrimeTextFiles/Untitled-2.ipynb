{
 "cells": [
  {
   "cell_type": "code",
   "execution_count": 1,
   "metadata": {},
   "outputs": [
    {
     "name": "stdout",
     "output_type": "stream",
     "text": [
      "[[ 2  3]\n",
      " [ 3  5]\n",
      " [ 5  7]\n",
      " [ 7 11]\n",
      " [11 13]\n",
      " [13 17]\n",
      " [17 19]\n",
      " [19 23]\n",
      " [23 29]\n",
      " [29 31]]\n"
     ]
    }
   ],
   "source": [
    "import numpy as np\n",
    "\n",
    "def load_and_transform_primes(file_path):\n",
    "    \"\"\"\n",
    "    Loads prime numbers from a file and transforms them into pairs of successive primes.\n",
    "    \n",
    "    :param file_path: Path to the file containing prime numbers\n",
    "    :return: Numpy array of tuples (prime, next_prime)\n",
    "    \"\"\"\n",
    "    # Load the prime numbers\n",
    "    primes = np.loadtxt(file_path, dtype=int)\n",
    "\n",
    "    # Pair each prime with the next\n",
    "    prime_pairs = np.column_stack((primes[:-1], primes[1:]))\n",
    "\n",
    "    return prime_pairs\n",
    "\n",
    "# Path to your primes file\n",
    "file_path = \"PrimeTextFiles/primes-to-100k.txt\"\n",
    "\n",
    "# Load and transform the primes\n",
    "transformed_primes = load_and_transform_primes(file_path)\n",
    "\n",
    "# Display the first few pairs\n",
    "print(transformed_primes[:10])\n"
   ]
  }
 ],
 "metadata": {
  "kernelspec": {
   "display_name": "envVoronoi",
   "language": "python",
   "name": "python3"
  },
  "language_info": {
   "codemirror_mode": {
    "name": "ipython",
    "version": 3
   },
   "file_extension": ".py",
   "mimetype": "text/x-python",
   "name": "python",
   "nbconvert_exporter": "python",
   "pygments_lexer": "ipython3",
   "version": "3.11.6"
  }
 },
 "nbformat": 4,
 "nbformat_minor": 2
}
