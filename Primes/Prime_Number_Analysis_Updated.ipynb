{
 "cells": [
  {
   "cell_type": "markdown",
   "id": "c7294845",
   "metadata": {},
   "source": [
    "# Prime Number Analysis\n",
    "\n",
    "This notebook is designed to perform operations related to prime numbers. It includes functionality to:\n",
    "1. Find numbers in a text file that end in a prime digit.\n",
    "2. List prime numbers with their respective indices.\n",
    "3. Generate a second level list of primes (primes of primes).\n",
    "    "
   ]
  },
  {
   "cell_type": "code",
   "execution_count": 2,
   "id": "ddf793c0",
   "metadata": {},
   "outputs": [],
   "source": [
    "import re\n",
    "\n",
    "def is_prime(n):\n",
    "    \"\"\"Check if a number is prime.\"\"\"\n",
    "    if n <= 1:\n",
    "        return False\n",
    "    if n <= 3:\n",
    "        return True\n",
    "    if n % 2 == 0 or n % 3 == 0:\n",
    "        return False\n",
    "    i = 5\n",
    "    while i * i <= n:\n",
    "        if n % i == 0 or n % (i + 2) == 0:\n",
    "            return False\n",
    "        i += 6\n",
    "    return True\n",
    "    "
   ]
  },
  {
   "cell_type": "markdown",
   "id": "51c8bdaf",
   "metadata": {},
   "source": [
    "## Function to Find Numbers Ending in a Prime"
   ]
  },
  {
   "cell_type": "code",
   "execution_count": null,
   "id": "44eaf896",
   "metadata": {},
   "outputs": [],
   "source": [
    "def find_numbers_ending_in_prime(file_path):\n",
    "    \"\"\"\n",
    "    Read a file and return a list of numbers that end in a prime digit.\n",
    "    \"\"\"\n",
    "    numbers_ending_in_prime = []\n",
    "    with open(file_path, 'r') as file:\n",
    "        for line in file:\n",
    "            for word in line.split():\n",
    "                if word[-1].isdigit() and is_prime(int(word[-1])):\n",
    "                    numbers_ending_in_prime.append(word)\n",
    "    return numbers_ending_in_prime\n",
    "\n",
    "# Example file path (to be replaced with actual file path)\n",
    "file_path = 'path_to_file.txt'\n",
    "numbers_ending_in_prime = find_numbers_ending_in_prime(file_path)\n",
    "print(\"Numbers ending in a prime:\", numbers_ending_in_prime)\n",
    "    "
   ]
  },
  {
   "cell_type": "markdown",
   "id": "7f8aeb91",
   "metadata": {},
   "source": [
    "## Function to List Primes with Indices"
   ]
  },
  {
   "cell_type": "code",
   "execution_count": null,
   "id": "7e646ca2",
   "metadata": {},
   "outputs": [],
   "source": [
    "def list_primes_with_indices(file_path):\n",
    "    primes_with_indices = []\n",
    "    with open(file_path, 'r') as file:\n",
    "        index = 1\n",
    "        for line in file:\n",
    "            for word in line.split():\n",
    "                if word.isdigit() and is_prime(int(word)):\n",
    "                    primes_with_indices.append((index, int(word)))\n",
    "                    index += 1\n",
    "    return primes_with_indices\n",
    "\n",
    "# Example file path (to be replaced with actual file path)\n",
    "file_path = 'path_to_file.txt'\n",
    "primes_with_indices = list_primes_with_indices(file_path)\n",
    "print(\"Primes with indices:\", primes_with_indices)\n",
    "    "
   ]
  },
  {
   "cell_type": "markdown",
   "id": "872b5d17",
   "metadata": {},
   "source": [
    "## Second Level Primes (Primes of Primes)"
   ]
  },
  {
   "cell_type": "code",
   "execution_count": null,
   "id": "5ecd5240",
   "metadata": {},
   "outputs": [],
   "source": [
    "def primes_of_primes(primes_with_indices):\n",
    "    second_level_primes = []\n",
    "    for index, prime in primes_with_indices:\n",
    "        if is_prime(index):\n",
    "            second_level_primes.append(prime)\n",
    "    return second_level_primes\n",
    "\n",
    "# Using the previously generated list of primes with indices\n",
    "second_level_primes = primes_of_primes(primes_with_indices)\n",
    "print(\"Second level primes (primes of primes):\", second_level_primes)\n",
    "    "
   ]
  }
 ],
 "metadata": {
  "kernelspec": {
   "display_name": "envVoronoi",
   "language": "python",
   "name": "python3"
  },
  "language_info": {
   "codemirror_mode": {
    "name": "ipython",
    "version": 3
   },
   "file_extension": ".py",
   "mimetype": "text/x-python",
   "name": "python",
   "nbconvert_exporter": "python",
   "pygments_lexer": "ipython3",
   "version": "3.11.6"
  }
 },
 "nbformat": 4,
 "nbformat_minor": 5
}
