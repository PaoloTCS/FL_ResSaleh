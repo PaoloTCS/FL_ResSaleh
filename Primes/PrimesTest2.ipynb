{
 "cells": [
  {
   "cell_type": "code",
   "execution_count": 1,
   "metadata": {},
   "outputs": [
    {
     "name": "stdout",
     "output_type": "stream",
     "text": [
      "Prime pairs 1: [(2, 3), (2, 37), (2, 13), (2, 23), (2, 17), (2, 31), (2, 41), (2, 19), (2, 7), (2, 5), (2, 29), (2, 11)]\n",
      "Prime pairs 2: [(19, 71), (3, 13), (79, 97), (7, 17), (29, 37), (17, 43), (2, 61), (71, 83), (61, 79), (71, 89), (31, 73), (3, 17), (43, 97), (17, 83), (3, 73), (13, 73), (17, 41), (83, 89), (59, 83), (13, 19), (3, 41), (2, 79), (11, 29), (37, 41), (5, 37), (59, 89), (61, 89), (3, 61), (67, 97), (5, 97), (2, 97), (37, 89), (23, 89), (37, 97), (37, 79), (71, 73), (3, 79), (11, 19), (3, 31), (7, 29), (3, 67), (7, 61), (5, 83), (5, 47), (11, 17), (89, 97), (19, 61), (83, 97), (11, 31), (31, 79), (31, 89), (37, 61), (2, 59), (7, 71), (3, 19), (11, 89), (53, 97), (7, 43), (23, 43), (19, 43), (29, 89), (19, 31), (5, 67), (73, 83), (37, 43), (71, 79), (13, 17), (31, 97), (53, 79), (13, 47), (5, 89), (23, 97), (19, 97), (5, 7), (2, 47), (17, 47), (29, 73), (3, 23), (43, 71), (31, 71), (23, 29), (53, 71), (23, 59), (23, 71), (41, 43), (2, 67), (7, 53), (29, 67), (13, 97), (17, 89), (53, 83), (5, 61), (11, 41), (13, 53), (13, 61), (43, 73), (67, 83), (3, 5), (31, 83), (43, 61), (11, 71), (13, 31), (41, 83), (17, 79), (53, 89), (19, 79), (29, 53), (19, 89), (23, 37), (43, 53), (3, 29), (5, 11), (59, 61), (7, 19), (47, 83), (23, 41), (43, 67), (13, 41), (29, 59), (59, 97), (41, 53), (37, 67), (41, 67), (43, 59), (53, 67), (23, 47), (37, 71), (7, 59), (17, 59), (13, 67), (5, 71), (3, 89), (29, 97), (17, 67), (37, 73), (61, 67), (17, 97), (5, 13), (73, 97), (17, 53), (11, 67), (5, 29), (31, 43), (11, 43), (19, 23), (19, 83), (43, 47), (17, 19), (7, 41), (53, 61), (7, 13), (7, 89), (19, 29), (5, 41), (53, 73), (7, 31), (41, 61), (5, 19), (3, 43), (37, 59), (61, 73), (31, 67), (23, 67), (71, 97), (2, 83), (47, 53), (67, 73), (3, 37), (5, 17), (47, 71), (41, 97), (67, 79), (5, 79), (31, 41), (17, 73), (13, 71), (29, 43), (3, 53), (79, 83), (61, 83), (2, 53), (41, 73), (79, 89), (23, 73), (13, 83), (13, 89), (29, 71), (43, 89), (7, 47), (67, 89), (7, 79), (47, 67), (11, 13), (47, 97), (13, 23), (19, 59), (41, 79), (41, 71), (13, 79), (17, 71), (67, 71), (23, 61), (5, 59), (37, 83), (3, 97), (47, 89), (47, 73), (31, 53), (19, 53), (17, 37), (23, 79), (3, 7), (59, 79), (3, 71), (59, 73), (17, 29), (5, 43), (47, 79), (11, 61), (7, 23), (59, 67), (2, 89), (11, 53), (19, 47), (11, 59), (11, 79), (5, 73), (29, 41), (5, 31), (13, 29), (11, 97), (43, 83), (5, 23), (7, 73), (41, 47), (13, 59), (41, 59), (31, 61), (37, 53), (29, 79), (17, 23), (2, 43), (73, 79), (11, 73), (3, 83), (31, 47), (43, 79), (53, 59), (29, 47), (29, 31), (59, 71), (13, 43), (31, 37), (41, 89), (19, 37), (3, 59), (7, 83), (23, 83), (23, 53), (19, 73), (7, 37), (47, 59), (7, 97), (61, 71), (13, 37), (3, 11), (73, 89), (17, 31), (23, 31), (19, 41), (17, 61), (47, 61), (11, 83), (29, 61), (2, 71), (7, 67), (29, 83), (11, 23), (3, 47), (11, 47), (7, 11), (2, 73), (19, 67), (61, 97), (5, 53), (37, 47), (31, 59), (11, 37)]\n"
     ]
    }
   ],
   "source": [
    "import random\n",
    "\n",
    "def generate_primes(n):\n",
    "    primes = []\n",
    "    for possiblePrime in range(2, n + 1):\n",
    "        isPrime = True\n",
    "        for num in range(2, int(possiblePrime ** 0.5) + 1):\n",
    "            if possiblePrime % num == 0:\n",
    "                isPrime = False\n",
    "                break\n",
    "        if isPrime:\n",
    "            primes.append(possiblePrime)\n",
    "    return primes\n",
    "\n",
    "# Define the range for the primes\n",
    "n = 100\n",
    "\n",
    "# Generate a list of primes\n",
    "primes = generate_primes(n)\n",
    "\n",
    "# Generate two lists of prime pairs\n",
    "prime_pairs1 = []\n",
    "prime_pairs2 = []\n",
    "for i in range(len(primes) - 1):\n",
    "    for j in range(i + 1, len(primes)):\n",
    "        if primes[j] - primes[i] <= max(primes):\n",
    "            if len(prime_pairs1) < len(primes) // 2:\n",
    "                prime_pairs1.append((primes[i], primes[j]))\n",
    "            else:\n",
    "                prime_pairs2.append((primes[i], primes[j]))\n",
    "\n",
    "# Shuffle the lists to make them random\n",
    "random.shuffle(prime_pairs1)\n",
    "random.shuffle(prime_pairs2)\n",
    "\n",
    "# Print the prime pairs\n",
    "print(\"Prime pairs 1:\", prime_pairs1)\n",
    "print(\"Prime pairs 2:\", prime_pairs2)"
   ]
  },
  {
   "cell_type": "markdown",
   "metadata": {},
   "source": [
    "Below is the Voronoi tessellation code"
   ]
  },
  {
   "cell_type": "markdown",
   "metadata": {},
   "source": [
    "import matplotlib.pyplot as plt\n",
    "from scipy.spatial import Voronoi, voronoi_plot_2d\n",
    "import numpy as np\n",
    "import random\n",
    "from sklearn.preprocessing import MinMaxScaler\n",
    "\n",
    "def generate_primes(n):\n",
    "    primes = []\n",
    "    for possiblePrime in range(2, n + 1):\n",
    "        isPrime = True\n",
    "        for num in range(2, int(possiblePrime ** 0.5) + 1):\n",
    "            if possiblePrime % num == 0:\n",
    "                isPrime = False\n",
    "                break\n",
    "        if isPrime:\n",
    "            primes.append(possiblePrime)\n",
    "    return primes \n",
    "\n",
    "# Define the range for the primes\n",
    "n = 100\n",
    "\n",
    "# Generate a list of primes\n",
    "primes = generate_primes(n)\n",
    "\n",
    "# Generate two lists of prime pairs\n",
    "prime_pairs1 = []\n",
    "prime_pairs2 = []\n",
    "for i in range(len(primes) - 1):\n",
    "    for j in range(i + 1, len(primes)):\n",
    "        if primes[j] - primes[i] <= max(primes):\n",
    "            pair = (i, primes[i])  # Use index as x-coordinate\n",
    "            if len(prime_pairs1) < len(primes) // 2:\n",
    "                prime_pairs1.append(pair)\n",
    "            else:\n",
    "                prime_pairs2.append(pair)\n",
    "\n",
    "# Shuffle the lists to make them random\n",
    "random.shuffle(prime_pairs1)\n",
    "random.shuffle(prime_pairs2)\n",
    "\n",
    "# Print the prime pairs\n",
    "print(\"Prime pairs 1:\", prime_pairs1)\n",
    "print(\"Prime pairs 2:\", prime_pairs2) \n",
    "\n",
    "# Convert prime pairs to numpy arrays for Voronoi function\n",
    "prime_pairs1_np = np.array(prime_pairs1)\n",
    "prime_pairs2_np = np.array(prime_pairs2)\n",
    "\n",
    "# Scale the points to the same range\n",
    "scaler = MinMaxScaler()\n",
    "prime_pairs1_np = scaler.fit_transform(prime_pairs1_np)\n",
    "prime_pairs2_np = scaler.transform(prime_pairs2_np)\n",
    "\n",
    "# Compute Voronoi tesselation for each list of prime pairs\n",
    "vor1 = Voronoi(prime_pairs1_np)\n",
    "vor2 = Voronoi(prime_pairs2_np)\n",
    "\n",
    "# Plot Voronoi diagram for each list of prime pairs\n",
    "voronoi_plot_2d(vor1)\n",
    "plt.show()\n",
    "\n",
    "voronoi_plot_2d(vor2)\n",
    "plt.show()"
   ]
  },
  {
   "cell_type": "code",
   "execution_count": 1,
   "metadata": {},
   "outputs": [
    {
     "name": "stdout",
     "output_type": "stream",
     "text": [
      "Prime list 1: [2, 3]\n",
      "Prime list 2: [5, 7]\n"
     ]
    }
   ],
   "source": [
    "def generate_primes(n):\n",
    "    primes = []\n",
    "    for possiblePrime in range(2, n + 1):\n",
    "        isPrime = True\n",
    "        for num in range(2, int(possiblePrime ** 0.5) + 1):\n",
    "            if possiblePrime % num == 0:\n",
    "                isPrime = False\n",
    "                break\n",
    "        if isPrime:\n",
    "            primes.append(possiblePrime)\n",
    "    return primes \n",
    "\n",
    "# Generate a list of primes\n",
    "primes = generate_primes(10)\n",
    "\n",
    "# Create two lists of two primes each\n",
    "prime_list1 = primes[:2]\n",
    "prime_list2 = primes[2:4]\n",
    "\n",
    "print(\"Prime list 1:\", prime_list1)\n",
    "print(\"Prime list 2:\", prime_list2)"
   ]
  },
  {
   "cell_type": "code",
   "execution_count": 2,
   "metadata": {},
   "outputs": [
    {
     "name": "stdout",
     "output_type": "stream",
     "text": [
      "Prime array 1: [ 2  3  5  7 11 13 17 19 23 29]\n",
      "Prime array 2: []\n"
     ]
    }
   ],
   "source": [
    "import numpy as np\n",
    "\n",
    "def generate_primes(n):\n",
    "    primes = []\n",
    "    for possiblePrime in range(2, n + 1):\n",
    "        isPrime = True\n",
    "        for num in range(2, int(possiblePrime ** 0.5) + 1):\n",
    "            if possiblePrime % num == 0:\n",
    "                isPrime = False\n",
    "                break\n",
    "        if isPrime:\n",
    "            primes.append(possiblePrime)\n",
    "    return primes \n",
    "\n",
    "# Generate a list of primes\n",
    "primes = generate_primes(30)\n",
    "\n",
    "# Create two arrays of ten primes each\n",
    "prime_array1 = np.array(primes[:10])\n",
    "prime_array2 = np.array(primes[10:20])\n",
    "\n",
    "print(\"Prime array 1:\", prime_array1)\n",
    "print(\"Prime array 2:\", prime_array2)"
   ]
  }
 ],
 "metadata": {
  "kernelspec": {
   "display_name": "envVoronoi",
   "language": "python",
   "name": "envvoronoi"
  },
  "language_info": {
   "codemirror_mode": {
    "name": "ipython",
    "version": 3
   },
   "file_extension": ".py",
   "mimetype": "text/x-python",
   "name": "python",
   "nbconvert_exporter": "python",
   "pygments_lexer": "ipython3",
   "version": "3.11.6"
  }
 },
 "nbformat": 4,
 "nbformat_minor": 2
}
