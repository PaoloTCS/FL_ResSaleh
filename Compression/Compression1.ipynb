{
 "cells": [
  {
   "cell_type": "markdown",
   "metadata": {},
   "source": [
    "# Exploring Language compression\n",
    "Using code snippets from the following sources:\n",
    "\n",
    "\n",
    "FL Folder:\n",
    "\n",
    "ResSaleh Folder:\n",
    "\n",
    "VoronoiCodeHelper Folder:\n",
    "\n",
    "Primes Folder:\n",
    "\n"
   ]
  },
  {
   "cell_type": "code",
   "execution_count": 2,
   "metadata": {},
   "outputs": [],
   "source": [
    "import sys\n",
    "\n",
    "# Add the folder paths to the Python environment\n",
    "sys.path.append('FL Folder')\n",
    "sys.path.append('ResSaleh Folder')\n",
    "sys.path.append('VoronoiCodeHelper Folder')\n",
    "sys.path.append('Primes Folder')\n"
   ]
  },
  {
   "cell_type": "code",
   "execution_count": null,
   "metadata": {},
   "outputs": [],
   "source": []
  },
  {
   "cell_type": "code",
   "execution_count": null,
   "metadata": {},
   "outputs": [],
   "source": []
  }
 ],
 "metadata": {
  "kernelspec": {
   "display_name": "envVoronoi",
   "language": "python",
   "name": "python3"
  },
  "language_info": {
   "codemirror_mode": {
    "name": "ipython",
    "version": 3
   },
   "file_extension": ".py",
   "mimetype": "text/x-python",
   "name": "python",
   "nbconvert_exporter": "python",
   "pygments_lexer": "ipython3",
   "version": "3.11.6"
  }
 },
 "nbformat": 4,
 "nbformat_minor": 2
}
